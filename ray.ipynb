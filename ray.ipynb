{
 "cells": [
  {
   "cell_type": "markdown",
   "id": "eaee1266-8fb7-482f-8177-628f2a138e8a",
   "metadata": {},
   "source": [
    "# Project: Big Data - Comparing ec2 Instance Performances\n",
    "\n",
    "## For Ray"
   ]
  },
  {
   "cell_type": "code",
   "execution_count": 1,
   "id": "24c57e3a-52e9-41e9-b2ba-64499d3f6d9a",
   "metadata": {},
   "outputs": [],
   "source": [
    "#%pip install boto3"
   ]
  },
  {
   "cell_type": "code",
   "execution_count": 2,
   "id": "401052f0-efe0-485e-9bc1-aaaff9f17819",
   "metadata": {},
   "outputs": [],
   "source": [
    "# Import Libraries\n",
    "#!pip install ipywidgets\n",
    "#!pip install wget"
   ]
  },
  {
   "cell_type": "code",
   "execution_count": 3,
   "id": "04992e04-1618-4fb2-9fa5-fd41748d3806",
   "metadata": {},
   "outputs": [],
   "source": [
    "import ray\n",
    "import os\n",
    "import time\n",
    "import numpy as np\n",
    "import socket\n",
    "import wget"
   ]
  },
  {
   "cell_type": "code",
   "execution_count": 4,
   "id": "59b07bc1-11e1-4375-ba54-560a54ab647d",
   "metadata": {},
   "outputs": [],
   "source": [
    "import pandas as pd"
   ]
  },
  {
   "cell_type": "code",
   "execution_count": 5,
   "id": "56265d4e-4510-43fd-a9e8-b77c287e9037",
   "metadata": {},
   "outputs": [],
   "source": [
    "import io"
   ]
  },
  {
   "cell_type": "markdown",
   "id": "bc9f9631-1053-4471-b598-a33b2140b6ff",
   "metadata": {},
   "source": [
    "## Connect Ray"
   ]
  },
  {
   "cell_type": "code",
   "execution_count": 6,
   "id": "8f62dcc0-0adf-46be-a690-18b1fdbc5cae",
   "metadata": {},
   "outputs": [
    {
     "data": {
      "application/vnd.jupyter.widget-view+json": {
       "model_id": "d71f3aca95c94e998899cf773266f75f",
       "version_major": 2,
       "version_minor": 0
      },
      "text/html": [
       "<div class=\"lm-Widget p-Widget lm-Panel p-Panel jp-Cell-outputWrapper\">\n",
       "    <div style=\"margin-left: 50px;display: flex;flex-direction: row;align-items: center\">\n",
       "        <div class=\"jp-RenderedHTMLCommon\" style=\"display: flex; flex-direction: row;\">\n",
       "  <svg viewBox=\"0 0 567 224\" fill=\"none\" xmlns=\"http://www.w3.org/2000/svg\" style=\"height: 3em;\">\n",
       "    <g clip-path=\"url(#clip0_4338_178347)\">\n",
       "        <path d=\"M341.29 165.561H355.29L330.13 129.051C345.63 123.991 354.21 112.051 354.21 94.2307C354.21 71.3707 338.72 58.1807 311.88 58.1807H271V165.561H283.27V131.661H311.8C314.25 131.661 316.71 131.501 319.01 131.351L341.25 165.561H341.29ZM283.29 119.851V70.0007H311.82C331.3 70.0007 342.34 78.2907 342.34 94.5507C342.34 111.271 331.34 119.861 311.82 119.861L283.29 119.851ZM451.4 138.411L463.4 165.561H476.74L428.74 58.1807H416L367.83 165.561H380.83L392.83 138.411H451.4ZM446.19 126.601H398L422 72.1407L446.24 126.601H446.19ZM526.11 128.741L566.91 58.1807H554.35L519.99 114.181L485.17 58.1807H472.44L514.01 129.181V165.541H526.13V128.741H526.11Z\" fill=\"var(--jp-ui-font-color0)\"/>\n",
       "        <path d=\"M82.35 104.44C84.0187 97.8827 87.8248 92.0678 93.1671 87.9146C98.5094 83.7614 105.083 81.5067 111.85 81.5067C118.617 81.5067 125.191 83.7614 130.533 87.9146C135.875 92.0678 139.681 97.8827 141.35 104.44H163.75C164.476 101.562 165.622 98.8057 167.15 96.2605L127.45 56.5605C121.071 60.3522 113.526 61.6823 106.235 60.3005C98.9443 58.9187 92.4094 54.9203 87.8602 49.0574C83.3109 43.1946 81.0609 35.8714 81.5332 28.4656C82.0056 21.0599 85.1679 14.0819 90.4252 8.8446C95.6824 3.60726 102.672 0.471508 110.08 0.0272655C117.487 -0.416977 124.802 1.86091 130.647 6.4324C136.493 11.0039 140.467 17.5539 141.821 24.8501C143.175 32.1463 141.816 39.6859 138 46.0505L177.69 85.7505C182.31 82.9877 187.58 81.4995 192.962 81.4375C198.345 81.3755 203.648 82.742 208.33 85.3976C213.012 88.0532 216.907 91.9029 219.616 96.5544C222.326 101.206 223.753 106.492 223.753 111.875C223.753 117.258 222.326 122.545 219.616 127.197C216.907 131.848 213.012 135.698 208.33 138.353C203.648 141.009 198.345 142.375 192.962 142.313C187.58 142.251 182.31 140.763 177.69 138L138 177.7C141.808 184.071 143.155 191.614 141.79 198.91C140.424 206.205 136.44 212.75 130.585 217.313C124.731 221.875 117.412 224.141 110.004 223.683C102.596 223.226 95.6103 220.077 90.3621 214.828C85.1139 209.58 81.9647 202.595 81.5072 195.187C81.0497 187.779 83.3154 180.459 87.878 174.605C92.4405 168.751 98.9853 164.766 106.281 163.401C113.576 162.035 121.119 163.383 127.49 167.19L167.19 127.49C165.664 124.941 164.518 122.182 163.79 119.3H141.39C139.721 125.858 135.915 131.673 130.573 135.826C125.231 139.98 118.657 142.234 111.89 142.234C105.123 142.234 98.5494 139.98 93.2071 135.826C87.8648 131.673 84.0587 125.858 82.39 119.3H60C58.1878 126.495 53.8086 132.78 47.6863 136.971C41.5641 141.163 34.1211 142.972 26.7579 142.059C19.3947 141.146 12.6191 137.574 7.70605 132.014C2.79302 126.454 0.0813599 119.29 0.0813599 111.87C0.0813599 104.451 2.79302 97.2871 7.70605 91.7272C12.6191 86.1673 19.3947 82.5947 26.7579 81.6817C34.1211 80.7686 41.5641 82.5781 47.6863 86.7696C53.8086 90.9611 58.1878 97.2456 60 104.44H82.35ZM100.86 204.32C103.407 206.868 106.759 208.453 110.345 208.806C113.93 209.159 117.527 208.258 120.522 206.256C123.517 204.254 125.725 201.276 126.771 197.828C127.816 194.38 127.633 190.677 126.253 187.349C124.874 184.021 122.383 181.274 119.205 179.577C116.027 177.88 112.359 177.337 108.826 178.042C105.293 178.746 102.113 180.654 99.8291 183.44C97.5451 186.226 96.2979 189.718 96.3 193.32C96.2985 195.364 96.7006 197.388 97.4831 199.275C98.2656 201.163 99.4132 202.877 100.86 204.32ZM204.32 122.88C206.868 120.333 208.453 116.981 208.806 113.396C209.159 109.811 208.258 106.214 206.256 103.219C204.254 100.223 201.275 98.0151 197.827 96.97C194.38 95.9249 190.676 96.1077 187.348 97.4873C184.02 98.8669 181.274 101.358 179.577 104.536C177.879 107.714 177.337 111.382 178.041 114.915C178.746 118.448 180.653 121.627 183.439 123.911C186.226 126.195 189.717 127.443 193.32 127.44C195.364 127.443 197.388 127.042 199.275 126.259C201.163 125.476 202.878 124.328 204.32 122.88ZM122.88 19.4205C120.333 16.8729 116.981 15.2876 113.395 14.9347C109.81 14.5817 106.213 15.483 103.218 17.4849C100.223 19.4868 98.0146 22.4654 96.9696 25.9131C95.9245 29.3608 96.1073 33.0642 97.4869 36.3922C98.8665 39.7202 101.358 42.4668 104.535 44.1639C107.713 45.861 111.381 46.4036 114.914 45.6992C118.447 44.9949 121.627 43.0871 123.911 40.301C126.195 37.515 127.442 34.0231 127.44 30.4205C127.44 28.3772 127.038 26.3539 126.255 24.4664C125.473 22.5788 124.326 20.8642 122.88 19.4205ZM19.42 100.86C16.8725 103.408 15.2872 106.76 14.9342 110.345C14.5813 113.93 15.4826 117.527 17.4844 120.522C19.4863 123.518 22.4649 125.726 25.9127 126.771C29.3604 127.816 33.0638 127.633 36.3918 126.254C39.7198 124.874 42.4664 122.383 44.1635 119.205C45.8606 116.027 46.4032 112.359 45.6988 108.826C44.9944 105.293 43.0866 102.114 40.3006 99.8296C37.5145 97.5455 34.0227 96.2983 30.42 96.3005C26.2938 96.3018 22.337 97.9421 19.42 100.86ZM100.86 100.86C98.3125 103.408 96.7272 106.76 96.3742 110.345C96.0213 113.93 96.9226 117.527 98.9244 120.522C100.926 123.518 103.905 125.726 107.353 126.771C110.8 127.816 114.504 127.633 117.832 126.254C121.16 124.874 123.906 122.383 125.604 119.205C127.301 116.027 127.843 112.359 127.139 108.826C126.434 105.293 124.527 102.114 121.741 99.8296C118.955 97.5455 115.463 96.2983 111.86 96.3005C109.817 96.299 107.793 96.701 105.905 97.4835C104.018 98.2661 102.303 99.4136 100.86 100.86Z\" fill=\"#00AEEF\"/>\n",
       "    </g>\n",
       "    <defs>\n",
       "        <clipPath id=\"clip0_4338_178347\">\n",
       "            <rect width=\"566.93\" height=\"223.75\" fill=\"white\"/>\n",
       "        </clipPath>\n",
       "    </defs>\n",
       "  </svg>\n",
       "</div>\n",
       "\n",
       "        <table class=\"jp-RenderedHTMLCommon\" style=\"border-collapse: collapse;color: var(--jp-ui-font-color1);font-size: var(--jp-ui-font-size1);\">\n",
       "    <tr>\n",
       "        <td style=\"text-align: left\"><b>Python version:</b></td>\n",
       "        <td style=\"text-align: left\"><b>3.10.12</b></td>\n",
       "    </tr>\n",
       "    <tr>\n",
       "        <td style=\"text-align: left\"><b>Ray version:</b></td>\n",
       "        <td style=\"text-align: left\"><b>2.11.0</b></td>\n",
       "    </tr>\n",
       "    <tr>\n",
       "    <td style=\"text-align: left\"><b>Dashboard:</b></td>\n",
       "    <td style=\"text-align: left\"><b><a href=\"http://127.0.0.1:8265\" target=\"_blank\">http://127.0.0.1:8265</a></b></td>\n",
       "</tr>\n",
       "\n",
       "</table>\n",
       "\n",
       "    </div>\n",
       "</div>\n"
      ],
      "text/plain": [
       "ClientContext(dashboard_url='127.0.0.1:8265', python_version='3.10.12', ray_version='2.11.0', ray_commit='2eb4a8119f903f79b78c01eaa9db06c6c390051c', _num_clients=2, _context_to_restore=<ray.util.client._ClientContext object at 0x7fb68d51ab90>, protocol_version=None)"
      ]
     },
     "execution_count": 6,
     "metadata": {},
     "output_type": "execute_result"
    },
    {
     "name": "stderr",
     "output_type": "stream",
     "text": [
      "\u001b[36m(pid=5588, ip=172.31.26.250)\u001b[0m 2024-04-23 03:06:42.638179: I external/local_tsl/tsl/cuda/cudart_stub.cc:32] Could not find cuda drivers on your machine, GPU will not be used.\n",
      "\u001b[36m(pid=5588, ip=172.31.26.250)\u001b[0m 2024-04-23 03:06:42.644242: I external/local_tsl/tsl/cuda/cudart_stub.cc:32] Could not find cuda drivers on your machine, GPU will not be used.\n",
      "\u001b[36m(pid=5587, ip=172.31.26.250)\u001b[0m 2024-04-23 03:06:42.628198: I external/local_tsl/tsl/cuda/cudart_stub.cc:32] Could not find cuda drivers on your machine, GPU will not be used.\n",
      "\u001b[36m(pid=5587, ip=172.31.26.250)\u001b[0m 2024-04-23 03:06:42.633525: I external/local_tsl/tsl/cuda/cudart_stub.cc:32] Could not find cuda drivers on your machine, GPU will not be used.\n",
      "\u001b[36m(pid=5588, ip=172.31.26.250)\u001b[0m 2024-04-23 03:06:42.736205: I tensorflow/core/platform/cpu_feature_guard.cc:210] This TensorFlow binary is optimized to use available CPU instructions in performance-critical operations.\n",
      "\u001b[36m(pid=5588, ip=172.31.26.250)\u001b[0m To enable the following instructions: AVX2 AVX512F FMA, in other operations, rebuild TensorFlow with the appropriate compiler flags.\n",
      "\u001b[36m(pid=5587, ip=172.31.26.250)\u001b[0m 2024-04-23 03:06:42.731733: I tensorflow/core/platform/cpu_feature_guard.cc:210] This TensorFlow binary is optimized to use available CPU instructions in performance-critical operations.\n",
      "\u001b[36m(pid=5587, ip=172.31.26.250)\u001b[0m To enable the following instructions: AVX2 AVX512F FMA, in other operations, rebuild TensorFlow with the appropriate compiler flags.\n",
      "\u001b[36m(pid=5635, ip=172.31.26.250)\u001b[0m 2024-04-23 03:06:44.427849: I external/local_tsl/tsl/cuda/cudart_stub.cc:32] Could not find cuda drivers on your machine, GPU will not be used.\n",
      "\u001b[36m(pid=5635, ip=172.31.26.250)\u001b[0m 2024-04-23 03:06:44.433170: I external/local_tsl/tsl/cuda/cudart_stub.cc:32] Could not find cuda drivers on your machine, GPU will not be used.\n",
      "\u001b[36m(pid=5635, ip=172.31.26.250)\u001b[0m 2024-04-23 03:06:44.517018: I tensorflow/core/platform/cpu_feature_guard.cc:210] This TensorFlow binary is optimized to use available CPU instructions in performance-critical operations.\n",
      "\u001b[36m(pid=5635, ip=172.31.26.250)\u001b[0m To enable the following instructions: AVX2 AVX512F FMA, in other operations, rebuild TensorFlow with the appropriate compiler flags.\n",
      "\u001b[36m(pid=5588, ip=172.31.26.250)\u001b[0m 2024-04-23 03:06:44.927724: W tensorflow/compiler/tf2tensorrt/utils/py_utils.cc:38] TF-TRT Warning: Could not find TensorRT\n",
      "\u001b[36m(pid=5587, ip=172.31.26.250)\u001b[0m 2024-04-23 03:06:45.319196: W tensorflow/compiler/tf2tensorrt/utils/py_utils.cc:38] TF-TRT Warning: Could not find TensorRT\n",
      "\u001b[36m(pid=5659, ip=172.31.26.250)\u001b[0m 2024-04-23 03:06:47.014742: I external/local_tsl/tsl/cuda/cudart_stub.cc:32] Could not find cuda drivers on your machine, GPU will not be used.\n",
      "\u001b[36m(pid=5659, ip=172.31.26.250)\u001b[0m 2024-04-23 03:06:47.020153: I external/local_tsl/tsl/cuda/cudart_stub.cc:32] Could not find cuda drivers on your machine, GPU will not be used.\n",
      "\u001b[36m(pid=5659, ip=172.31.26.250)\u001b[0m 2024-04-23 03:06:47.106953: I tensorflow/core/platform/cpu_feature_guard.cc:210] This TensorFlow binary is optimized to use available CPU instructions in performance-critical operations.\n",
      "\u001b[36m(pid=5659, ip=172.31.26.250)\u001b[0m To enable the following instructions: AVX2 AVX512F FMA, in other operations, rebuild TensorFlow with the appropriate compiler flags.\n",
      "\u001b[36m(pid=5635, ip=172.31.26.250)\u001b[0m 2024-04-23 03:06:47.685249: W tensorflow/compiler/tf2tensorrt/utils/py_utils.cc:38] TF-TRT Warning: Could not find TensorRT\n",
      "\u001b[36m(ModelTrainer pid=5588, ip=172.31.26.250)\u001b[0m /home/ubuntu/.local/lib/python3.10/site-packages/keras/src/layers/convolutional/base_conv.py:107: UserWarning: Do not pass an `input_shape`/`input_dim` argument to a layer. When using Sequential models, prefer using an `Input(shape)` object as the first layer in the model instead.\n",
      "\u001b[36m(ModelTrainer pid=5588, ip=172.31.26.250)\u001b[0m   super().__init__(activity_regularizer=activity_regularizer, **kwargs)\n",
      "\u001b[36m(ModelTrainer pid=5587, ip=172.31.26.250)\u001b[0m /home/ubuntu/.local/lib/python3.10/site-packages/keras/src/layers/convolutional/base_conv.py:107: UserWarning: Do not pass an `input_shape`/`input_dim` argument to a layer. When using Sequential models, prefer using an `Input(shape)` object as the first layer in the model instead.\n",
      "\u001b[36m(ModelTrainer pid=5587, ip=172.31.26.250)\u001b[0m   super().__init__(activity_regularizer=activity_regularizer, **kwargs)\n",
      "\u001b[36m(pid=5659, ip=172.31.26.250)\u001b[0m 2024-04-23 03:06:50.348867: W tensorflow/compiler/tf2tensorrt/utils/py_utils.cc:38] TF-TRT Warning: Could not find TensorRT\n",
      "\u001b[36m(ModelTrainer pid=5635, ip=172.31.26.250)\u001b[0m /home/ubuntu/.local/lib/python3.10/site-packages/keras/src/layers/convolutional/base_conv.py:107: UserWarning: Do not pass an `input_shape`/`input_dim` argument to a layer. When using Sequential models, prefer using an `Input(shape)` object as the first layer in the model instead.\n",
      "\u001b[36m(ModelTrainer pid=5635, ip=172.31.26.250)\u001b[0m   super().__init__(activity_regularizer=activity_regularizer, **kwargs)\n",
      "\u001b[36m(ModelTrainer pid=5659, ip=172.31.26.250)\u001b[0m /home/ubuntu/.local/lib/python3.10/site-packages/keras/src/layers/convolutional/base_conv.py:107: UserWarning: Do not pass an `input_shape`/`input_dim` argument to a layer. When using Sequential models, prefer using an `Input(shape)` object as the first layer in the model instead.\n",
      "\u001b[36m(ModelTrainer pid=5659, ip=172.31.26.250)\u001b[0m   super().__init__(activity_regularizer=activity_regularizer, **kwargs)\n"
     ]
    }
   ],
   "source": [
    "# Initialize ray client\n",
    "ray.init(address=\"ray://172.31.31.167:10001\")"
   ]
  },
  {
   "cell_type": "code",
   "execution_count": 7,
   "id": "3be7533b-adfc-46d3-88a1-fbcf443d7f2b",
   "metadata": {},
   "outputs": [
    {
     "name": "stdout",
     "output_type": "stream",
     "text": [
      "This cluster consists of\n",
      "    4 nodes with\n",
      "    6.0 CPUs,\n",
      "    14.34685249440372 GiB of aggregate memory capacity, and \n",
      "    an object store of 6.43891410715878 GiB of memory.\n",
      "    \n"
     ]
    }
   ],
   "source": [
    "print('''This cluster consists of\n",
    "    {} nodes with\n",
    "    {} CPUs,\n",
    "    {} GiB of aggregate memory capacity, and \n",
    "    an object store of {} GiB of memory.\n",
    "    '''.format(len(ray.nodes()), ray.cluster_resources()['CPU'], \n",
    "           ray.cluster_resources()['memory'] / (1024*1024*1024), \n",
    "           ray.cluster_resources()['object_store_memory'] / (1024*1024*1024)))"
   ]
  },
  {
   "cell_type": "code",
   "execution_count": 8,
   "id": "c63bcb41-98d5-45ce-975f-83598fc87720",
   "metadata": {},
   "outputs": [
    {
     "name": "stdout",
     "output_type": "stream",
     "text": [
      "Tasks executed\n",
      "    517 tasks on 172.31.26.250\n",
      "    482 tasks on 172.31.26.225\n",
      "    1 tasks on 172.31.31.167\n",
      "CPU times: user 424 ms, sys: 96 ms, total: 520 ms\n",
      "Wall time: 2.58 s\n"
     ]
    }
   ],
   "source": [
    "%%time\n",
    "\n",
    "'''\n",
    "(Optional testing code) \n",
    "Test your Ray cluster, see the outputs to check if all nodes are ready to work\n",
    "the output should be like \"123 tasks on 1.2.3.4\".\n",
    "By default, you have 5 nodes to execute remote tasks.\n",
    "'''\n",
    "import socket\n",
    "from collections import Counter\n",
    "\n",
    "@ray.remote\n",
    "def f():\n",
    "    time.sleep(0.001)\n",
    "    # Return IP address.\n",
    "    return socket.gethostbyname(socket.gethostname())\n",
    "\n",
    "object_ids = [f.remote() for _ in range(1000)]\n",
    "ip_addresses = ray.get(object_ids)\n",
    "\n",
    "print('Tasks executed')\n",
    "for ip_address, num_tasks in Counter(ip_addresses).items():\n",
    "    print('    {} tasks on {}'.format(num_tasks, ip_address))"
   ]
  },
  {
   "cell_type": "markdown",
   "id": "d748aac3-8e46-48e4-90d3-de9893b5563b",
   "metadata": {},
   "source": [
    "## Connect S3 data"
   ]
  },
  {
   "cell_type": "code",
   "execution_count": 9,
   "id": "dc18826e-dba5-4dd4-9be4-06774318c7c4",
   "metadata": {},
   "outputs": [],
   "source": [
    "import boto3\n",
    "\n",
    "s3 = boto3.client('s3') # connect to s3"
   ]
  },
  {
   "cell_type": "code",
   "execution_count": 10,
   "id": "4062425b-5e94-4d55-8613-60b3b022bc32",
   "metadata": {},
   "outputs": [
    {
     "name": "stdout",
     "output_type": "stream",
     "text": [
      "       pixel_0_0    pixel_0_1    pixel_0_2    pixel_0_3    pixel_0_4  \\\n",
      "count     1797.0  1797.000000  1797.000000  1797.000000  1797.000000   \n",
      "mean         0.0     0.303840     5.204786    11.835838    11.848080   \n",
      "std          0.0     0.907192     4.754826     4.248842     4.287388   \n",
      "min          0.0     0.000000     0.000000     0.000000     0.000000   \n",
      "25%          0.0     0.000000     1.000000    10.000000    10.000000   \n",
      "50%          0.0     0.000000     4.000000    13.000000    13.000000   \n",
      "75%          0.0     0.000000     9.000000    15.000000    15.000000   \n",
      "max          0.0     8.000000    16.000000    16.000000    16.000000   \n",
      "\n",
      "         pixel_0_5    pixel_0_6    pixel_0_7    pixel_1_0    pixel_1_1  ...  \\\n",
      "count  1797.000000  1797.000000  1797.000000  1797.000000  1797.000000  ...   \n",
      "mean      5.781859     1.362270     0.129661     0.005565     1.993879  ...   \n",
      "std       5.666418     3.325775     1.037383     0.094222     3.196160  ...   \n",
      "min       0.000000     0.000000     0.000000     0.000000     0.000000  ...   \n",
      "25%       0.000000     0.000000     0.000000     0.000000     0.000000  ...   \n",
      "50%       4.000000     0.000000     0.000000     0.000000     0.000000  ...   \n",
      "75%      11.000000     0.000000     0.000000     0.000000     3.000000  ...   \n",
      "max      16.000000    16.000000    15.000000     2.000000    16.000000  ...   \n",
      "\n",
      "         pixel_6_7    pixel_7_0    pixel_7_1    pixel_7_2    pixel_7_3  \\\n",
      "count  1797.000000  1797.000000  1797.000000  1797.000000  1797.000000   \n",
      "mean      0.206455     0.000556     0.279354     5.557596    12.089037   \n",
      "std       0.984401     0.023590     0.934302     5.103019     4.374694   \n",
      "min       0.000000     0.000000     0.000000     0.000000     0.000000   \n",
      "25%       0.000000     0.000000     0.000000     1.000000    11.000000   \n",
      "50%       0.000000     0.000000     0.000000     4.000000    13.000000   \n",
      "75%       0.000000     0.000000     0.000000    10.000000    16.000000   \n",
      "max      13.000000     1.000000     9.000000    16.000000    16.000000   \n",
      "\n",
      "         pixel_7_4    pixel_7_5    pixel_7_6    pixel_7_7       target  \n",
      "count  1797.000000  1797.000000  1797.000000  1797.000000  1797.000000  \n",
      "mean     11.809126     6.764051     2.067891     0.364496     4.490818  \n",
      "std       4.933947     5.900623     4.090548     1.860122     2.865304  \n",
      "min       0.000000     0.000000     0.000000     0.000000     0.000000  \n",
      "25%      10.000000     0.000000     0.000000     0.000000     2.000000  \n",
      "50%      14.000000     6.000000     0.000000     0.000000     4.000000  \n",
      "75%      16.000000    12.000000     2.000000     0.000000     7.000000  \n",
      "max      16.000000    16.000000    16.000000    16.000000     9.000000  \n",
      "\n",
      "[8 rows x 65 columns]\n"
     ]
    }
   ],
   "source": [
    "# response = s3.list_objects_v2(Bucket='digit-dataset') # connect to s3 bucket\n",
    "@ray.remote\n",
    "def process_data(data_bytes):\n",
    "    # Convert bytes to DataFrame directly within the remote function\n",
    "    df = pd.read_csv(io.BytesIO(data_bytes))\n",
    "    return df.describe()\n",
    " \n",
    "def load_data(bucket, key):\n",
    "    # Initialize the S3 client locally\n",
    "    s3 = boto3.client('s3')\n",
    "    response = s3.get_object(Bucket=bucket, Key=key)\n",
    "    data_bytes = response['Body'].read()\n",
    "    return data_bytes\n",
    " \n",
    "# Load data locally\n",
    "data_bytes = load_data('ray-data-digit', 'digits.csv')\n",
    " \n",
    "# Process data remotely\n",
    "data_summary_id = process_data.remote(data_bytes)\n",
    "data_summary = ray.get(data_summary_id)\n",
    "print(data_summary)"
   ]
  },
  {
   "cell_type": "code",
   "execution_count": 11,
   "id": "6541be20-7768-480f-abce-1c33764db30c",
   "metadata": {},
   "outputs": [],
   "source": [
    "import matplotlib.pyplot as plt\n",
    "from matplotlib.colors import ListedColormap\n",
    "\n",
    "import sklearn\n",
    "from sklearn.inspection import DecisionBoundaryDisplay\n",
    "from sklearn.model_selection import train_test_split\n",
    "from sklearn.neighbors import KNeighborsClassifier, NeighborhoodComponentsAnalysis\n",
    "from sklearn.pipeline import Pipeline\n",
    "from sklearn.preprocessing import StandardScaler\n",
    "import seaborn as sns\n",
    "from sklearn.metrics import classification_report"
   ]
  },
  {
   "cell_type": "code",
   "execution_count": 12,
   "id": "6684bbca-a3b2-4f58-a536-5fe7c7eb444a",
   "metadata": {},
   "outputs": [
    {
     "name": "stdout",
     "output_type": "stream",
     "text": [
      "Train set size: 1437\n",
      "Test set size: 360\n"
     ]
    }
   ],
   "source": [
    "df = pd.read_csv(io.BytesIO(data_bytes))\n",
    "\n",
    "# Assume 'target' is the target column you want to predict\n",
    "X = df.drop(columns=['target'])  # Assuming 'target' is the name of the target column\n",
    "y = df['target']\n",
    "\n",
    "# Split the data into train and test sets\n",
    "X_train, X_test, y_train, y_test = train_test_split(X, y, test_size=0.2, random_state=42)\n",
    "\n",
    "# Optionally, you can print the sizes of train and test sets\n",
    "print(\"Train set size:\", len(X_train))\n",
    "print(\"Test set size:\", len(X_test))"
   ]
  },
  {
   "cell_type": "code",
   "execution_count": 13,
   "id": "2458643f-c92c-45ef-84e0-90574ba21ef6",
   "metadata": {},
   "outputs": [],
   "source": [
    "@ray.remote\n",
    "def get_data(data):\n",
    "    return data\n",
    "\n",
    "# Distribute X_train, X_test, y_train, and y_test across Ray\n",
    "X_train_id = get_data.remote(X_train)\n",
    "X_test_id = get_data.remote(X_test)\n",
    "y_train_id = get_data.remote(y_train)\n",
    "y_test_id = get_data.remote(y_test)\n",
    "\n",
    "# Retrieve the distributed data\n",
    "X_train = ray.get(X_train_id)\n",
    "X_test = ray.get(X_test_id)\n",
    "y_train = ray.get(y_train_id)\n",
    "y_test = ray.get(y_test_id)"
   ]
  },
  {
   "cell_type": "markdown",
   "id": "9147dd19-1859-47cc-ac4f-aba375ae42d8",
   "metadata": {},
   "source": [
    "## Using KNN for Classification"
   ]
  },
  {
   "cell_type": "code",
   "execution_count": 14,
   "id": "6732ccfa-6995-4d7c-9f4c-c427bc20e0f6",
   "metadata": {},
   "outputs": [],
   "source": [
    "import ray\n",
    "import matplotlib.pyplot as plt\n",
    "from sklearn.neighbors import KNeighborsClassifier\n",
    "from sklearn.metrics import classification_report"
   ]
  },
  {
   "cell_type": "code",
   "execution_count": 15,
   "id": "525ee3b7-ca7d-4ee0-bbd1-f04695dba71f",
   "metadata": {},
   "outputs": [],
   "source": [
    "@ray.remote\n",
    "def train_and_evaluate(X_train, X_test, y_train, y_test, k):\n",
    "    X_train = np.array(X_train)\n",
    "    X_test = np.array(X_test)\n",
    "    y_train = np.array(y_train)\n",
    "    y_test = np.array(y_test)\n",
    "    \n",
    "    knn = KNeighborsClassifier(n_neighbors=k)\n",
    "    knn.fit(X_train, y_train)\n",
    "    y_pred = knn.predict(X_test)\n",
    "    report = classification_report(y_test, y_pred)\n",
    "    return knn.score(X_train, y_train), knn.score(X_test, y_test), report"
   ]
  },
  {
   "cell_type": "code",
   "execution_count": 16,
   "id": "6b474b5c-de3d-48fe-88fc-ec8597916509",
   "metadata": {},
   "outputs": [
    {
     "name": "stderr",
     "output_type": "stream",
     "text": [
      "/home/ubuntu/.local/lib/python3.10/site-packages/ray/util/client/worker.py:619: UserWarning: More than 10MB of messages have been created to schedule tasks on the server. This can be slow on Ray Client due to communication overhead over the network. If you're running many fine-grained tasks, consider running them inside a single remote function. See the section on \"Too fine-grained tasks\" in the Ray Design Patterns document for more details: https://docs.google.com/document/d/167rnnDFIVRhHhK4mznEIemOtj63IOhtIPvSYaPgI4Fg/edit#heading=h.f7ins22n6nyl. If your functions frequently use large objects, consider storing the objects remotely with ray.put. An example of this is shown in the \"Closure capture of large / unserializable object\" section of the Ray Design Patterns document, available here: https://docs.google.com/document/d/167rnnDFIVRhHhK4mznEIemOtj63IOhtIPvSYaPgI4Fg/edit#heading=h.1afmymq455wu\n",
      "  warnings.warn(\n"
     ]
    },
    {
     "name": "stdout",
     "output_type": "stream",
     "text": [
      "CPU times: user 84 ms, sys: 23.2 ms, total: 107 ms\n",
      "Wall time: 3.19 s\n"
     ]
    }
   ],
   "source": [
    "%%time\n",
    "# Run KNN with different values of k\n",
    "k_val = range(1, 11)\n",
    "train_accuracy = []\n",
    "test_accuracy = []\n",
    "reports = []\n",
    "\n",
    "# Distribute the KNN training and evaluation tasks across Ray\n",
    "for k in k_val:\n",
    "    train_id = train_and_evaluate.remote(X_train, X_test, y_train, y_test, k)\n",
    "    train_acc, test_acc, report = ray.get(train_id)\n",
    "    train_accuracy.append(train_acc)\n",
    "    test_accuracy.append(test_acc)\n",
    "    reports.append(report)"
   ]
  },
  {
   "cell_type": "code",
   "execution_count": 17,
   "id": "7f3b4f20-6323-4377-b37f-e846b4841709",
   "metadata": {},
   "outputs": [
    {
     "data": {
      "image/png": "[encoded data removed]",
      "text/plain": [
       "<Figure size 640x480 with 1 Axes>"
      ]
     },
     "metadata": {},
     "output_type": "display_data"
    }
   ],
   "source": [
    "# Plot the accuracy scores\n",
    "plt.plot(k_val, train_accuracy, label='Train Accuracy')\n",
    "plt.plot(k_val, test_accuracy, label='Test Accuracy')\n",
    "plt.xlabel('Number of Neighbors (k)')\n",
    "plt.ylabel('Accuracy')\n",
    "plt.title('Accuracy vs. Number of Neighbors')\n",
    "plt.legend()\n",
    "plt.grid(True)\n",
    "plt.show()"
   ]
  },
  {
   "cell_type": "code",
   "execution_count": 18,
   "id": "f291b79a-a11c-4643-96ff-13024032d796",
   "metadata": {},
   "outputs": [
    {
     "name": "stdout",
     "output_type": "stream",
     "text": [
      "k=1: Train Accuracy=1.00, Test Accuracy=0.98\n",
      "Classification Report for k = 1\n",
      "              precision    recall  f1-score   support\n",
      "\n",
      "           0       1.00      1.00      1.00        33\n",
      "           1       0.93      1.00      0.97        28\n",
      "           2       1.00      1.00      1.00        33\n",
      "           3       0.97      1.00      0.99        34\n",
      "           4       0.98      0.98      0.98        46\n",
      "           5       0.98      0.98      0.98        47\n",
      "           6       0.97      1.00      0.99        35\n",
      "           7       1.00      0.97      0.99        34\n",
      "           8       1.00      0.93      0.97        30\n",
      "           9       0.95      0.93      0.94        40\n",
      "\n",
      "    accuracy                           0.98       360\n",
      "   macro avg       0.98      0.98      0.98       360\n",
      "weighted avg       0.98      0.98      0.98       360\n",
      "\n",
      "k=2: Train Accuracy=0.99, Test Accuracy=0.98\n",
      "Classification Report for k = 2\n",
      "              precision    recall  f1-score   support\n",
      "\n",
      "           0       1.00      1.00      1.00        33\n",
      "           1       0.93      1.00      0.97        28\n",
      "           2       1.00      1.00      1.00        33\n",
      "           3       0.97      1.00      0.99        34\n",
      "           4       0.98      0.98      0.98        46\n",
      "           5       0.98      0.98      0.98        47\n",
      "           6       0.97      1.00      0.99        35\n",
      "           7       1.00      0.97      0.99        34\n",
      "           8       1.00      0.97      0.98        30\n",
      "           9       0.97      0.93      0.95        40\n",
      "\n",
      "    accuracy                           0.98       360\n",
      "   macro avg       0.98      0.98      0.98       360\n",
      "weighted avg       0.98      0.98      0.98       360\n",
      "\n",
      "k=3: Train Accuracy=0.99, Test Accuracy=0.98\n",
      "Classification Report for k = 3\n",
      "              precision    recall  f1-score   support\n",
      "\n",
      "           0       1.00      1.00      1.00        33\n",
      "           1       0.97      1.00      0.98        28\n",
      "           2       1.00      1.00      1.00        33\n",
      "           3       0.97      1.00      0.99        34\n",
      "           4       0.98      1.00      0.99        46\n",
      "           5       0.98      0.98      0.98        47\n",
      "           6       0.97      1.00      0.99        35\n",
      "           7       1.00      0.97      0.99        34\n",
      "           8       1.00      0.97      0.98        30\n",
      "           9       0.97      0.93      0.95        40\n",
      "\n",
      "    accuracy                           0.98       360\n",
      "   macro avg       0.98      0.98      0.98       360\n",
      "weighted avg       0.98      0.98      0.98       360\n",
      "\n",
      "k=4: Train Accuracy=0.99, Test Accuracy=0.98\n",
      "Classification Report for k = 4\n",
      "              precision    recall  f1-score   support\n",
      "\n",
      "           0       1.00      1.00      1.00        33\n",
      "           1       0.93      1.00      0.97        28\n",
      "           2       1.00      1.00      1.00        33\n",
      "           3       0.97      1.00      0.99        34\n",
      "           4       0.98      0.98      0.98        46\n",
      "           5       0.98      1.00      0.99        47\n",
      "           6       1.00      1.00      1.00        35\n",
      "           7       1.00      0.97      0.99        34\n",
      "           8       0.97      0.97      0.97        30\n",
      "           9       0.97      0.90      0.94        40\n",
      "\n",
      "    accuracy                           0.98       360\n",
      "   macro avg       0.98      0.98      0.98       360\n",
      "weighted avg       0.98      0.98      0.98       360\n",
      "\n",
      "k=5: Train Accuracy=0.99, Test Accuracy=0.99\n",
      "Classification Report for k = 5\n",
      "              precision    recall  f1-score   support\n",
      "\n",
      "           0       1.00      1.00      1.00        33\n",
      "           1       1.00      1.00      1.00        28\n",
      "           2       1.00      1.00      1.00        33\n",
      "           3       1.00      1.00      1.00        34\n",
      "           4       0.98      1.00      0.99        46\n",
      "           5       0.98      0.96      0.97        47\n",
      "           6       0.97      1.00      0.99        35\n",
      "           7       1.00      0.97      0.99        34\n",
      "           8       1.00      1.00      1.00        30\n",
      "           9       0.95      0.95      0.95        40\n",
      "\n",
      "    accuracy                           0.99       360\n",
      "   macro avg       0.99      0.99      0.99       360\n",
      "weighted avg       0.99      0.99      0.99       360\n",
      "\n",
      "k=6: Train Accuracy=0.99, Test Accuracy=0.99\n",
      "Classification Report for k = 6\n",
      "              precision    recall  f1-score   support\n",
      "\n",
      "           0       1.00      1.00      1.00        33\n",
      "           1       1.00      1.00      1.00        28\n",
      "           2       1.00      1.00      1.00        33\n",
      "           3       1.00      1.00      1.00        34\n",
      "           4       0.98      1.00      0.99        46\n",
      "           5       0.98      0.98      0.98        47\n",
      "           6       0.97      1.00      0.99        35\n",
      "           7       1.00      0.97      0.99        34\n",
      "           8       1.00      1.00      1.00        30\n",
      "           9       0.97      0.95      0.96        40\n",
      "\n",
      "    accuracy                           0.99       360\n",
      "   macro avg       0.99      0.99      0.99       360\n",
      "weighted avg       0.99      0.99      0.99       360\n",
      "\n",
      "k=7: Train Accuracy=0.99, Test Accuracy=0.99\n",
      "Classification Report for k = 7\n",
      "              precision    recall  f1-score   support\n",
      "\n",
      "           0       1.00      1.00      1.00        33\n",
      "           1       1.00      1.00      1.00        28\n",
      "           2       1.00      1.00      1.00        33\n",
      "           3       1.00      1.00      1.00        34\n",
      "           4       0.98      1.00      0.99        46\n",
      "           5       0.98      0.98      0.98        47\n",
      "           6       0.97      1.00      0.99        35\n",
      "           7       1.00      0.97      0.99        34\n",
      "           8       1.00      1.00      1.00        30\n",
      "           9       0.97      0.95      0.96        40\n",
      "\n",
      "    accuracy                           0.99       360\n",
      "   macro avg       0.99      0.99      0.99       360\n",
      "weighted avg       0.99      0.99      0.99       360\n",
      "\n",
      "k=8: Train Accuracy=0.99, Test Accuracy=0.99\n",
      "Classification Report for k = 8\n",
      "              precision    recall  f1-score   support\n",
      "\n",
      "           0       1.00      1.00      1.00        33\n",
      "           1       0.93      1.00      0.97        28\n",
      "           2       1.00      1.00      1.00        33\n",
      "           3       1.00      1.00      1.00        34\n",
      "           4       0.98      1.00      0.99        46\n",
      "           5       0.98      0.98      0.98        47\n",
      "           6       0.97      1.00      0.99        35\n",
      "           7       1.00      1.00      1.00        34\n",
      "           8       1.00      0.93      0.97        30\n",
      "           9       1.00      0.95      0.97        40\n",
      "\n",
      "    accuracy                           0.99       360\n",
      "   macro avg       0.99      0.99      0.99       360\n",
      "weighted avg       0.99      0.99      0.99       360\n",
      "\n",
      "k=9: Train Accuracy=0.99, Test Accuracy=0.98\n",
      "Classification Report for k = 9\n",
      "              precision    recall  f1-score   support\n",
      "\n",
      "           0       1.00      1.00      1.00        33\n",
      "           1       0.93      1.00      0.97        28\n",
      "           2       1.00      1.00      1.00        33\n",
      "           3       1.00      1.00      1.00        34\n",
      "           4       0.98      1.00      0.99        46\n",
      "           5       0.98      0.96      0.97        47\n",
      "           6       0.97      1.00      0.99        35\n",
      "           7       1.00      0.97      0.99        34\n",
      "           8       1.00      0.93      0.97        30\n",
      "           9       0.95      0.95      0.95        40\n",
      "\n",
      "    accuracy                           0.98       360\n",
      "   macro avg       0.98      0.98      0.98       360\n",
      "weighted avg       0.98      0.98      0.98       360\n",
      "\n",
      "k=10: Train Accuracy=0.98, Test Accuracy=0.98\n",
      "Classification Report for k = 10\n",
      "              precision    recall  f1-score   support\n",
      "\n",
      "           0       1.00      1.00      1.00        33\n",
      "           1       0.93      1.00      0.97        28\n",
      "           2       1.00      1.00      1.00        33\n",
      "           3       1.00      1.00      1.00        34\n",
      "           4       0.98      1.00      0.99        46\n",
      "           5       0.98      0.96      0.97        47\n",
      "           6       0.97      1.00      0.99        35\n",
      "           7       1.00      1.00      1.00        34\n",
      "           8       1.00      0.93      0.97        30\n",
      "           9       0.97      0.95      0.96        40\n",
      "\n",
      "    accuracy                           0.98       360\n",
      "   macro avg       0.98      0.98      0.98       360\n",
      "weighted avg       0.98      0.98      0.98       360\n",
      "\n"
     ]
    }
   ],
   "source": [
    "# Print the accuracy scores and classification reports for each k\n",
    "for k_val, train_acc, test_acc, report in zip(k_val, train_accuracy, test_accuracy, reports):\n",
    "    print(f'k={k_val}: Train Accuracy={train_acc:.2f}, Test Accuracy={test_acc:.2f}')\n",
    "    print(\"Classification Report for k =\", k_val)\n",
    "    print(report)"
   ]
  },
  {
   "cell_type": "markdown",
   "id": "04d13198-6b5f-4579-a018-d0613d821689",
   "metadata": {},
   "source": [
    "## CNN"
   ]
  },
  {
   "cell_type": "code",
   "execution_count": 19,
   "id": "1afbe75d-18f1-4d59-bb7f-b897877e32d5",
   "metadata": {},
   "outputs": [
    {
     "name": "stderr",
     "output_type": "stream",
     "text": [
      "2024-04-23 03:06:36.694066: I external/local_tsl/tsl/cuda/cudart_stub.cc:32] Could not find cuda drivers on your machine, GPU will not be used.\n",
      "2024-04-23 03:06:36.698900: I external/local_tsl/tsl/cuda/cudart_stub.cc:32] Could not find cuda drivers on your machine, GPU will not be used.\n",
      "2024-04-23 03:06:36.779925: I tensorflow/core/platform/cpu_feature_guard.cc:210] This TensorFlow binary is optimized to use available CPU instructions in performance-critical operations.\n",
      "To enable the following instructions: AVX2 AVX512F FMA, in other operations, rebuild TensorFlow with the appropriate compiler flags.\n",
      "2024-04-23 03:06:38.008478: W tensorflow/compiler/tf2tensorrt/utils/py_utils.cc:38] TF-TRT Warning: Could not find TensorRT\n"
     ]
    }
   ],
   "source": [
    "import numpy as np\n",
    "import ray\n",
    "import tensorflow as tf\n",
    "from sklearn.model_selection import train_test_split\n",
    "from tensorflow.keras.models import Sequential\n",
    "from tensorflow.keras.layers import Conv2D, MaxPooling2D, Flatten, Dense"
   ]
  },
  {
   "cell_type": "code",
   "execution_count": 20,
   "id": "c26580e2-4a4d-4ea4-a97a-379f4b8a7f92",
   "metadata": {},
   "outputs": [],
   "source": [
    "@ray.remote\n",
    "class ModelTrainer:\n",
    "    def __init__(self, data, labels):\n",
    "        self.data = data\n",
    "        self.labels = labels\n",
    "        self.model = self.create_model()\n",
    "\n",
    "    def create_model(self):\n",
    "        model = Sequential([\n",
    "            Conv2D(32, kernel_size=(3, 3), activation='relu', input_shape=(8, 8, 1)),\n",
    "            MaxPooling2D(pool_size=(2, 2)),\n",
    "            Flatten(),\n",
    "            Dense(128, activation='relu'),\n",
    "            Dense(10, activation='softmax')\n",
    "        ])\n",
    "        model.compile(optimizer='adam', loss='sparse_categorical_crossentropy', metrics=['accuracy'])\n",
    "        return model\n",
    "\n",
    "    def train(self, epochs=10, batch_size=10):\n",
    "        history = self.model.fit(self.data, self.labels, epochs=epochs, batch_size=batch_size, verbose=0)\n",
    "        return history.history\n",
    "\n",
    "    def evaluate(self, test_data, test_labels):\n",
    "        return self.model.evaluate(test_data, test_labels, verbose=0)"
   ]
  },
  {
   "cell_type": "code",
   "execution_count": 21,
   "id": "564851c0-8324-45fb-a79c-36cd84e733f2",
   "metadata": {},
   "outputs": [
    {
     "name": "stdout",
     "output_type": "stream",
     "text": [
      "CPU times: user 190 ms, sys: 25.6 ms, total: 215 ms\n",
      "Wall time: 25.7 s\n"
     ]
    }
   ],
   "source": [
    "%%time\n",
    "X_train_cnn = X_train.values.reshape(-1, 8, 8, 1).astype(np.float32)\n",
    "X_val_cnn = X_test.values.reshape(-1, 8, 8, 1).astype(np.float32)\n",
    "\n",
    "# Create Ray actors\n",
    "trainers = [ModelTrainer.remote(X_train_cnn, y_train) for _ in range(4)]\n",
    "\n",
    "# Train models in parallel\n",
    "train_histories = ray.get([trainer.train.remote() for trainer in trainers])\n",
    "\n",
    "# Evaluate models on the test set\n",
    "test_results = ray.get([trainer.evaluate.remote(X_val_cnn, y_test) for trainer in trainers])\n"
   ]
  },
  {
   "cell_type": "code",
   "execution_count": 22,
   "id": "704049c9-f72e-4199-ada0-2b1b2c866ae8",
   "metadata": {},
   "outputs": [
    {
     "name": "stdout",
     "output_type": "stream",
     "text": [
      "Trainer 1 - Training Loss: 0.020719461143016815, Accuracy: 0.9944328665733337\n",
      "Trainer 2 - Training Loss: 0.007180733606219292, Accuracy: 0.9993041157722473\n",
      "Trainer 3 - Training Loss: 0.009556436911225319, Accuracy: 0.9993041157722473\n",
      "Trainer 4 - Training Loss: 0.003879552474245429, Accuracy: 1.0\n",
      "Trainer 1 - Test performance: Loss = 0.05673358589410782, Accuracy = 0.9750000238418579\n",
      "Trainer 2 - Test performance: Loss = 0.054176945239305496, Accuracy = 0.9861111044883728\n",
      "Trainer 3 - Test performance: Loss = 0.03818756341934204, Accuracy = 0.9777777791023254\n",
      "Trainer 4 - Test performance: Loss = 0.047042619436979294, Accuracy = 0.9833333492279053\n"
     ]
    }
   ],
   "source": [
    "for i, history in enumerate(train_histories):\n",
    "    print(f\"Trainer {i+1} - Training Loss: {history['loss'][-1]}, Accuracy: {history['accuracy'][-1]}\")\n",
    "for i, result in enumerate(test_results):\n",
    "    print(f\"Trainer {i+1} - Test performance: Loss = {result[0]}, Accuracy = {result[1]}\")"
   ]
  },
  {
   "cell_type": "code",
   "execution_count": 23,
   "id": "488d631d-4968-480d-8949-aa6d8ae2ce4a",
   "metadata": {},
   "outputs": [
    {
     "data": {
      "image/png": "[encoded data removed]",
      "text/plain": [
       "<Figure size 1200x500 with 2 Axes>"
      ]
     },
     "metadata": {},
     "output_type": "display_data"
    }
   ],
   "source": [
    "def plot_results(histories, results):\n",
    "    epochs = range(1, len(histories[0]['loss']) + 1)\n",
    "    avg_loss = np.mean([h['loss'] for h in histories], axis=0)\n",
    "    avg_acc = np.mean([h['accuracy'] for h in histories], axis=0)\n",
    "    avg_test_loss = np.mean([res[0] for res in results])\n",
    "    avg_test_acc = np.mean([res[1] for res in results])\n",
    "\n",
    "    plt.figure(figsize=(12, 5))\n",
    "\n",
    "    plt.subplot(1, 2, 1)\n",
    "    plt.plot(epochs, avg_loss, label='Avg. Training Loss')\n",
    "    plt.axhline(y=avg_test_loss, color='r', linestyle='--', label='Avg. Test Loss')\n",
    "    plt.title('Loss')\n",
    "    plt.xlabel('Epochs')\n",
    "    plt.ylabel('Loss')\n",
    "    plt.legend()\n",
    "\n",
    "    plt.subplot(1, 2, 2)\n",
    "    plt.plot(epochs, avg_acc, label='Avg. Training Accuracy')\n",
    "    plt.axhline(y=avg_test_acc, color='r', linestyle='--', label='Avg. Test Accuracy')\n",
    "    plt.title('Accuracy')\n",
    "    plt.xlabel('Epochs')\n",
    "    plt.ylabel('Accuracy')\n",
    "    plt.legend()\n",
    "\n",
    "    plt.show()\n",
    "\n",
    "# Plot both training and test results\n",
    "plot_results(train_histories, test_results)"
   ]
  }
 ],
 "metadata": {
  "kernelspec": {
   "display_name": "Python 3 (ipykernel)",
   "language": "python",
   "name": "python3"
  },
  "language_info": {
   "codemirror_mode": {
    "name": "ipython",
    "version": 3
   },
   "file_extension": ".py",
   "mimetype": "text/x-python",
   "name": "python",
   "nbconvert_exporter": "python",
   "pygments_lexer": "ipython3",
   "version": "3.10.12"
  }
 },
 "nbformat": 4,
 "nbformat_minor": 5
}
